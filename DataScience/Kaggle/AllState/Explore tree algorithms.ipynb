{
 "cells": [
  {
   "cell_type": "code",
   "execution_count": 1,
   "metadata": {
    "collapsed": false
   },
   "outputs": [],
   "source": [
    "import pandas as pd"
   ]
  },
  {
   "cell_type": "code",
   "execution_count": null,
   "metadata": {
    "collapsed": false
   },
   "outputs": [],
   "source": []
  },
  {
   "cell_type": "code",
   "execution_count": 2,
   "metadata": {
    "collapsed": false
   },
   "outputs": [
    {
     "name": "stderr",
     "output_type": "stream",
     "text": [
      "/home/hoang/anaconda2/lib/python2.7/site-packages/sklearn/cross_validation.py:44: DeprecationWarning: This module was deprecated in version 0.18 in favor of the model_selection module into which all the refactored classes and functions are moved. Also note that the interface of the new CV iterators are different from that of this module. This module will be removed in 0.20.\n",
      "  \"This module will be removed in 0.20.\", DeprecationWarning)\n"
     ]
    }
   ],
   "source": [
    "import sklearn\n",
    "from sklearn import linear_model\n",
    "from sklearn.metrics import explained_variance_score\n",
    "from sklearn.metrics import mean_absolute_error\n",
    "import numpy as np\n",
    "from sklearn.model_selection import train_test_split\n",
    "from sklearn.ensemble import RandomForestRegressor\n",
    "from sklearn.cross_validation import KFold"
   ]
  },
  {
   "cell_type": "code",
   "execution_count": 3,
   "metadata": {
    "collapsed": false
   },
   "outputs": [],
   "source": [
    "train = pd.read_csv(\"train.csv\")"
   ]
  },
  {
   "cell_type": "code",
   "execution_count": 4,
   "metadata": {
    "collapsed": false
   },
   "outputs": [
    {
     "name": "stdout",
     "output_type": "stream",
     "text": [
      "size of the df_train: (188318, 1154)\n"
     ]
    }
   ],
   "source": [
    "train_copy = train.copy()\n",
    "#split the train copy data\n",
    "categorical = train_copy.loc[:,'id':'cat116'] \n",
    "#add one-hot encoded of the data\n",
    "df_train = pd.get_dummies(categorical)\n",
    "df_train = pd.merge(train_copy,df_train, on='id')\n",
    "df_train = df_train.select_dtypes(include=['float64','uint8'])\n",
    "\n",
    "print 'size of the df_train: ' + str(df_train.shape)\n",
    "\n"
   ]
  },
  {
   "cell_type": "code",
   "execution_count": 5,
   "metadata": {
    "collapsed": false
   },
   "outputs": [
    {
     "data": {
      "text/html": [
       "<div>\n",
       "<table border=\"1\" class=\"dataframe\">\n",
       "  <thead>\n",
       "    <tr style=\"text-align: right;\">\n",
       "      <th></th>\n",
       "      <th>cont1</th>\n",
       "      <th>cont2</th>\n",
       "      <th>cont3</th>\n",
       "      <th>cont4</th>\n",
       "      <th>cont5</th>\n",
       "      <th>cont6</th>\n",
       "      <th>cont7</th>\n",
       "      <th>cont8</th>\n",
       "      <th>cont9</th>\n",
       "      <th>cont10</th>\n",
       "      <th>...</th>\n",
       "      <th>cat116_P</th>\n",
       "      <th>cat116_Q</th>\n",
       "      <th>cat116_R</th>\n",
       "      <th>cat116_S</th>\n",
       "      <th>cat116_T</th>\n",
       "      <th>cat116_U</th>\n",
       "      <th>cat116_V</th>\n",
       "      <th>cat116_W</th>\n",
       "      <th>cat116_X</th>\n",
       "      <th>cat116_Y</th>\n",
       "    </tr>\n",
       "  </thead>\n",
       "  <tbody>\n",
       "    <tr>\n",
       "      <th>0</th>\n",
       "      <td>0.7263</td>\n",
       "      <td>0.245921</td>\n",
       "      <td>0.187583</td>\n",
       "      <td>0.789639</td>\n",
       "      <td>0.310061</td>\n",
       "      <td>0.718367</td>\n",
       "      <td>0.33506</td>\n",
       "      <td>0.3026</td>\n",
       "      <td>0.67135</td>\n",
       "      <td>0.8351</td>\n",
       "      <td>...</td>\n",
       "      <td>0.0</td>\n",
       "      <td>0.0</td>\n",
       "      <td>0.0</td>\n",
       "      <td>0.0</td>\n",
       "      <td>0.0</td>\n",
       "      <td>0.0</td>\n",
       "      <td>0.0</td>\n",
       "      <td>0.0</td>\n",
       "      <td>0.0</td>\n",
       "      <td>0.0</td>\n",
       "    </tr>\n",
       "  </tbody>\n",
       "</table>\n",
       "<p>1 rows × 1154 columns</p>\n",
       "</div>"
      ],
      "text/plain": [
       "    cont1     cont2     cont3     cont4     cont5     cont6    cont7   cont8  \\\n",
       "0  0.7263  0.245921  0.187583  0.789639  0.310061  0.718367  0.33506  0.3026   \n",
       "\n",
       "     cont9  cont10    ...     cat116_P  cat116_Q  cat116_R  cat116_S  \\\n",
       "0  0.67135  0.8351    ...          0.0       0.0       0.0       0.0   \n",
       "\n",
       "   cat116_T  cat116_U  cat116_V  cat116_W  cat116_X  cat116_Y  \n",
       "0       0.0       0.0       0.0       0.0       0.0       0.0  \n",
       "\n",
       "[1 rows x 1154 columns]"
      ]
     },
     "execution_count": 5,
     "metadata": {},
     "output_type": "execute_result"
    }
   ],
   "source": [
    "df_train.head(1)"
   ]
  },
  {
   "cell_type": "code",
   "execution_count": 6,
   "metadata": {
    "collapsed": false
   },
   "outputs": [
    {
     "data": {
      "text/html": [
       "<div>\n",
       "<table border=\"1\" class=\"dataframe\">\n",
       "  <thead>\n",
       "    <tr style=\"text-align: right;\">\n",
       "      <th></th>\n",
       "      <th>cont1</th>\n",
       "      <th>cont2</th>\n",
       "      <th>cont3</th>\n",
       "      <th>cont4</th>\n",
       "      <th>cont5</th>\n",
       "      <th>cont6</th>\n",
       "      <th>cont7</th>\n",
       "      <th>cont8</th>\n",
       "      <th>cont9</th>\n",
       "      <th>cont10</th>\n",
       "      <th>...</th>\n",
       "      <th>cat116_Q</th>\n",
       "      <th>cat116_R</th>\n",
       "      <th>cat116_S</th>\n",
       "      <th>cat116_T</th>\n",
       "      <th>cat116_U</th>\n",
       "      <th>cat116_V</th>\n",
       "      <th>cat116_W</th>\n",
       "      <th>cat116_X</th>\n",
       "      <th>cat116_Y</th>\n",
       "      <th>loss_moved</th>\n",
       "    </tr>\n",
       "  </thead>\n",
       "  <tbody>\n",
       "    <tr>\n",
       "      <th>0</th>\n",
       "      <td>0.7263</td>\n",
       "      <td>0.245921</td>\n",
       "      <td>0.187583</td>\n",
       "      <td>0.789639</td>\n",
       "      <td>0.310061</td>\n",
       "      <td>0.718367</td>\n",
       "      <td>0.33506</td>\n",
       "      <td>0.3026</td>\n",
       "      <td>0.67135</td>\n",
       "      <td>0.8351</td>\n",
       "      <td>...</td>\n",
       "      <td>0.0</td>\n",
       "      <td>0.0</td>\n",
       "      <td>0.0</td>\n",
       "      <td>0.0</td>\n",
       "      <td>0.0</td>\n",
       "      <td>0.0</td>\n",
       "      <td>0.0</td>\n",
       "      <td>0.0</td>\n",
       "      <td>0.0</td>\n",
       "      <td>2213.18</td>\n",
       "    </tr>\n",
       "  </tbody>\n",
       "</table>\n",
       "<p>1 rows × 1154 columns</p>\n",
       "</div>"
      ],
      "text/plain": [
       "    cont1     cont2     cont3     cont4     cont5     cont6    cont7   cont8  \\\n",
       "0  0.7263  0.245921  0.187583  0.789639  0.310061  0.718367  0.33506  0.3026   \n",
       "\n",
       "     cont9  cont10     ...      cat116_Q  cat116_R  cat116_S  cat116_T  \\\n",
       "0  0.67135  0.8351     ...           0.0       0.0       0.0       0.0   \n",
       "\n",
       "   cat116_U  cat116_V  cat116_W  cat116_X  cat116_Y  loss_moved  \n",
       "0       0.0       0.0       0.0       0.0       0.0     2213.18  \n",
       "\n",
       "[1 rows x 1154 columns]"
      ]
     },
     "execution_count": 6,
     "metadata": {},
     "output_type": "execute_result"
    }
   ],
   "source": [
    "#move loss columns to the end\n",
    "df_train['loss_moved'] = df_train['loss']\n",
    "del df_train['loss']\n",
    "df_train.head(1)"
   ]
  },
  {
   "cell_type": "code",
   "execution_count": 7,
   "metadata": {
    "collapsed": false
   },
   "outputs": [],
   "source": [
    "#reduce data size  for easier to train\n",
    "df_experiment = df_train.loc[:2000,:]\n",
    "\n",
    "#split x_train and y_train\n",
    "train_x , test_x, train_y, test_y = train_test_split(\n",
    "    df_experiment.loc[:,'cont1':'cat116_Y'], \n",
    "    df_experiment.loc[:,'loss_moved'], test_size = 0.3, random_state=42)"
   ]
  },
  {
   "cell_type": "markdown",
   "metadata": {
    "collapsed": false
   },
   "source": [
    "# Fit bayesian ridge evaluated by variance in sklearn metrics"
   ]
  },
  {
   "cell_type": "markdown",
   "metadata": {
    "collapsed": false
   },
   "source": [
    "\n",
    "clf = linear_model.BayesianRidge()\n",
    "clf.fit(train_x, train_y)\n",
    "\n",
    "#print out the accuracy metrics\n",
    "prediction = clf.predict(test_x)\n",
    "real = np.array(test_y)\n",
    "accuracy_test = mean_absolute_error(test_y,prediction)\n",
    "accuracy_train = mean_absolute_error(train_y, clf.predict(train_x))\n",
    "print \"Bayesian Ridge method :\"\n",
    "print \"Mean absolute errors in test: %.6f\" % (accuracy_test) \n",
    "print \"Mean absolute errors in train: %.6f\" % (accuracy_train)"
   ]
  },
  {
   "cell_type": "markdown",
   "metadata": {
    "collapsed": false
   },
   "source": [
    "# Try with random forest"
   ]
  },
  {
   "cell_type": "markdown",
   "metadata": {
    "collapsed": false
   },
   "source": [
    "\n",
    "estimators = range(10,100,10)\n",
    "#tunning parameters for the regression trees\n",
    "for i in estimators:\n",
    "    clf = RandomForestRegressor(n_estimators = i)\n",
    "    clf = clf.fit(train_x,train_y)\n",
    "\n",
    "    #print out the accuracy metrics\n",
    "    prediction = clf.predict(test_x)\n",
    "    real = np.array(test_y)\n",
    "    predict_y_train = np.array(clf.predict(train_x))\n",
    "    accuracy_test = mean_absolute_error(test_y,prediction)\n",
    "    accuracy_train = mean_absolute_error(train_y, predict_y_train)\n",
    "    print \"n_estimators:\", i\n",
    "    print \"Mean absolute errors in test: %.6f\" % (accuracy_test) \n",
    "    print \"Mean absolute errors in train: %.6f\" % (accuracy_train) "
   ]
  },
  {
   "cell_type": "markdown",
   "metadata": {},
   "source": [
    "# Extra tree regressor"
   ]
  },
  {
   "cell_type": "markdown",
   "metadata": {
    "collapsed": false
   },
   "source": [
    "from sklearn.ensemble import ExtraTreesRegressor\n",
    "for i in estimators:\n",
    "    clf = ExtraTreesRegressor(n_estimators = i,)\n",
    "    clf = clf.fit(train_x,train_y)\n",
    "\n",
    "    #print out the accuracy metrics\n",
    "    prediction = clf.predict(test_x)\n",
    "    real = np.array(test_y)\n",
    "    accuracy = mean_absolute_error(test_y,prediction)\n",
    "    print \"n_estimators:\", i\n",
    "    print \"Mean absolute errors: %.6f\" % (accuracy) "
   ]
  },
  {
   "cell_type": "markdown",
   "metadata": {
    "collapsed": false
   },
   "source": [
    "range(10,100,10)\n"
   ]
  },
  {
   "cell_type": "markdown",
   "metadata": {},
   "source": [
    "# let's try to optimize random forest features\n"
   ]
  },
  {
   "cell_type": "code",
   "execution_count": 8,
   "metadata": {
    "collapsed": false
   },
   "outputs": [
    {
     "data": {
      "text/plain": [
       "(2001, 754)"
      ]
     },
     "execution_count": 8,
     "metadata": {},
     "output_type": "execute_result"
    }
   ],
   "source": [
    "#doing feature engineering\n",
    "\n",
    "#1./ remove massive catergorical data \n",
    "train_3000 = train_copy.loc[:2000,:]\n",
    "df_features = pd.get_dummies(train_3000)\n",
    "df_features['loss_moved'] = df_features['loss']\n",
    "del df_features['loss']\n",
    "df_features.shape"
   ]
  },
  {
   "cell_type": "code",
   "execution_count": 9,
   "metadata": {
    "collapsed": false
   },
   "outputs": [],
   "source": [
    "#create new split x and split y\n",
    "train_x , test_x, train_y, test_y = train_test_split(\n",
    "    df_features.loc[:,'cont1':'cat114_U'], \n",
    "    df_features.loc[:,'loss_moved'], test_size = 0.3, random_state=42)"
   ]
  },
  {
   "cell_type": "markdown",
   "metadata": {},
   "source": [
    "1. Testing with k fold cross validation"
   ]
  },
  {
   "cell_type": "code",
   "execution_count": null,
   "metadata": {
    "collapsed": false
   },
   "outputs": [
    {
     "name": "stderr",
     "output_type": "stream",
     "text": [
      "/home/hoang/anaconda2/lib/python2.7/site-packages/sklearn/grid_search.py:43: DeprecationWarning: This module was deprecated in version 0.18 in favor of the model_selection module into which all the refactored classes and functions are moved. This module will be removed in 0.20.\n",
      "  DeprecationWarning)\n"
     ]
    }
   ],
   "source": [
    "estimators = 60 #already a best feature\n",
    "features= \"auto\" #max features\n",
    "criteria = \"mae\"\n",
    "#tunning parameters for the regression trees\n",
    "params ={\n",
    "    'n_estimators': range(50,90,5),\n",
    "    'criterion' : ('mse','mae'),\n",
    "    'max_features' : ('auto','sqrt','log2')\n",
    "}\n",
    "\n",
    "RFR = RandomForestRegressor()\n",
    "from sklearn import grid_search\n",
    "clf = grid_search.GridSearchCV(RFR, params)\n",
    "clf = clf.fit(train_x,train_y)\n",
    "\n",
    "#print out the accuracy metrics\n",
    "prediction = clf.predict(test_x)\n",
    "real = np.array(test_y)\n",
    "predict_y_train = np.array(clf.predict(train_x))\n",
    "accuracy_test = mean_absolute_error(test_y,prediction)\n",
    "accuracy_train = mean_absolute_error(train_y, predict_y_train)\n",
    "print \"Parameters: \"\n",
    "print \"n_estimators: \", estimators\n",
    "\n",
    "print \"\"\n",
    "print \"Mean absolute errors in test: %.6f\" % (accuracy_test) \n",
    "print \"Mean absolute errors in train: %.6f\" % (accuracy_train)\n",
    "print \"\""
   ]
  },
  {
   "cell_type": "code",
   "execution_count": null,
   "metadata": {
    "collapsed": false
   },
   "outputs": [],
   "source": [
    "#performing grid search for the parameters\n"
   ]
  },
  {
   "cell_type": "markdown",
   "metadata": {},
   "source": [
    "# Apply linear ridge model\n"
   ]
  },
  {
   "cell_type": "code",
   "execution_count": null,
   "metadata": {
    "collapsed": true
   },
   "outputs": [],
   "source": []
  },
  {
   "cell_type": "markdown",
   "metadata": {
    "collapsed": false
   },
   "source": [
    "clf = linear_model.BayesianRidge()\n",
    "clf.fit(train_x,train_y)\n",
    "#print out the accuracy metrics\n",
    "prediction = clf.predict(test_x)\n",
    "real = np.array(test_y)\n",
    "predict_y_train = np.array(clf.predict(train_x))\n",
    "accuracy_test = mean_absolute_error(test_y,prediction)\n",
    "accuracy_train = mean_absolute_error(train_y, predict_y_train)\n",
    "print \"Parameters: \"\n",
    "print \"\"\n",
    "print \"Mean absolute errors in test: %.6f\" % (accuracy_test) \n",
    "print \"Mean absolute errors in train: %.6f\" % (accuracy_train)\n",
    "print \"\""
   ]
  },
  {
   "cell_type": "markdown",
   "metadata": {},
   "source": [
    "# test with svm regression model\n"
   ]
  },
  {
   "cell_type": "markdown",
   "metadata": {
    "collapsed": false
   },
   "source": [
    "from sklearn import svm"
   ]
  },
  {
   "cell_type": "markdown",
   "metadata": {
    "collapsed": false
   },
   "source": [
    "clf = svm.SVR()\n",
    "clf.fit(train_x,train_y)\n",
    "#print out the accuracy metrics\n",
    "prediction = clf.predict(test_x)\n",
    "real = np.array(test_y)\n",
    "predict_y_train = np.array(clf.predict(train_x))\n",
    "accuracy_test = mean_absolute_error(test_y,prediction)\n",
    "accuracy_train = mean_absolute_error(train_y, predict_y_train)\n",
    "print \"Parameters: \"\n",
    "print \"\"\n",
    "print \"Mean absolute errors in test: %.6f\" % (accuracy_test) \n",
    "print \"Mean absolute errors in train: %.6f\" % (accuracy_train)\n",
    "print \"\""
   ]
  },
  {
   "cell_type": "markdown",
   "metadata": {},
   "source": [
    "# Gradient boosting regressor"
   ]
  },
  {
   "cell_type": "markdown",
   "metadata": {
    "collapsed": false
   },
   "source": [
    "from sklearn.ensemble import GradientBoostingRegressor\n",
    "clf = GradientBoostingRegressor(n_estimators=100, learning_rate=0.05)\n",
    "clf = clf.fit(train_x,train_y)\n",
    "\n",
    "#print out the accuracy metrics\n",
    "prediction = clf.predict(test_x)\n",
    "real = np.array(test_y)\n",
    "predict_y_train = np.array(clf.predict(train_x))\n",
    "accuracy_test = mean_absolute_error(test_y,prediction)\n",
    "accuracy_train = mean_absolute_error(train_y, predict_y_train)\n",
    "print \"Parameters: \"\n",
    "print \"\"\n",
    "print \"Mean absolute errors in test: %.6f\" % (accuracy_test) \n",
    "print \"Mean absolute errors in train: %.6f\" % (accuracy_train)\n",
    "print \"\""
   ]
  },
  {
   "cell_type": "code",
   "execution_count": null,
   "metadata": {
    "collapsed": true
   },
   "outputs": [],
   "source": []
  }
 ],
 "metadata": {
  "anaconda-cloud": {},
  "kernelspec": {
   "display_name": "Python [default]",
   "language": "python",
   "name": "python2"
  },
  "language_info": {
   "codemirror_mode": {
    "name": "ipython",
    "version": 2
   },
   "file_extension": ".py",
   "mimetype": "text/x-python",
   "name": "python",
   "nbconvert_exporter": "python",
   "pygments_lexer": "ipython2",
   "version": "2.7.12"
  }
 },
 "nbformat": 4,
 "nbformat_minor": 1
}
